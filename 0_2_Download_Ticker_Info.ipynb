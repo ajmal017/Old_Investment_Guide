{
 "cells": [
  {
   "cell_type": "code",
   "execution_count": null,
   "metadata": {},
   "outputs": [],
   "source": [
    "#Download asx200 / all ord company details and export to excel\n"
   ]
  },
  {
   "cell_type": "code",
   "execution_count": 1,
   "metadata": {},
   "outputs": [],
   "source": [
    "import numpy as np\n",
    "import pandas as  pd\n",
    "import matplotlib.pyplot as plt\n",
    "import seaborn as sns\n",
    "\n",
    "#!pip install yfinance --upgrade --no-cache-dir\n",
    "#!pip uninstall yfinance\n",
    "#!pip install git+https://github.com/rodrigobercini/yfinance.git\n",
    "import yfinance as yf\n",
    "import yahoofinancials as yfin"
   ]
  },
  {
   "cell_type": "code",
   "execution_count": 2,
   "metadata": {},
   "outputs": [],
   "source": [
    "import pandas as pd\n",
    "ASX_data = pd.read_csv('https://www.asx.com.au/asx/research/ASXListedCompanies.csv',skiprows=1)\n",
    "# format to align with yahoo finance ticker\n",
    "ASX_data[\"Ticker\"] = ASX_data['ASX code']+\".AX\"\n",
    "ASX_TICKER_LIST = list(ASX_data['Ticker'])"
   ]
  },
  {
   "cell_type": "code",
   "execution_count": 4,
   "metadata": {},
   "outputs": [
    {
     "name": "stdout",
     "output_type": "stream",
     "text": [
      "Error with TT9.AX\n",
      "--- 13.355578184127808 seconds ---\n"
     ]
    }
   ],
   "source": [
    "import time\n",
    "start_time = time.time()\n",
    "\n",
    "\n",
    "company_df = pd.DataFrame()\n",
    "\n",
    "def Info_Extract(TickName):\n",
    "    \n",
    "    global company_df\n",
    "    \n",
    "    try:\n",
    "        tick = yf.Ticker(TickName)\n",
    "        filter_df = tick.info\n",
    "        company_df = company_df.append(filter_df, ignore_index=True) \n",
    "         \n",
    "    except Exception:\n",
    "        print(\"Error with\",TickName)\n",
    "        pass\n",
    "\n",
    "    return()\n",
    "\n",
    "\n",
    "for company in ASX_TICKER_LIST:\n",
    "    Info_Extract(company)\n",
    "\n",
    "\n",
    "\n",
    "print(\"--- %s seconds ---\" % (time.time() - start_time))\n"
   ]
  },
  {
   "cell_type": "code",
   "execution_count": 3,
   "metadata": {},
   "outputs": [],
   "source": [
    "#DF=company_df\n",
    "#DF.to_excel(\"/Users/JZ/Downloads/ALL_ORDS_2k_Dets.xlsx\", sheet_name='Sheet_name_1')\n"
   ]
  },
  {
   "cell_type": "code",
   "execution_count": null,
   "metadata": {},
   "outputs": [],
   "source": []
  }
 ],
 "metadata": {
  "kernelspec": {
   "display_name": "Python 3",
   "language": "python",
   "name": "python3"
  },
  "language_info": {
   "codemirror_mode": {
    "name": "ipython",
    "version": 3
   },
   "file_extension": ".py",
   "mimetype": "text/x-python",
   "name": "python",
   "nbconvert_exporter": "python",
   "pygments_lexer": "ipython3",
   "version": "3.7.4"
  }
 },
 "nbformat": 4,
 "nbformat_minor": 2
}
