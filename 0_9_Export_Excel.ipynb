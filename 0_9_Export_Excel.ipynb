{
 "cells": [
  {
   "cell_type": "code",
   "execution_count": null,
   "metadata": {},
   "outputs": [],
   "source": [
    "company_df.columns = ['Ticker','DIVIDEND_BASE','REV_GWTH_PA','HEALTH_DEBT','VAL_NTA','VAL_NTA_ADD_DIV','PAST_MARGIN','YSTDAY_PRICE','REVENUE_YOY','Revenue','TAX','rate_TAX','OPEX','NET','rate_Expense']\n",
    "company_df\n",
    "company_df.to_excel(\"/Users/JZ/Downloads/SNOWFLAKE_BANK_TESTING.xlsx\", sheet_name='FIN')"
   ]
  }
 ],
 "metadata": {
  "kernelspec": {
   "display_name": "Python 3",
   "language": "python",
   "name": "python3"
  },
  "language_info": {
   "codemirror_mode": {
    "name": "ipython",
    "version": 3
   },
   "file_extension": ".py",
   "mimetype": "text/x-python",
   "name": "python",
   "nbconvert_exporter": "python",
   "pygments_lexer": "ipython3",
   "version": "3.7.4"
  }
 },
 "nbformat": 4,
 "nbformat_minor": 2
}
