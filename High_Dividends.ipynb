{
 "cells": [
  {
   "cell_type": "code",
   "execution_count": 1,
   "metadata": {},
   "outputs": [],
   "source": [
    "# This module is aimed at finding companies that are:\n",
    "# 1). stable compared to ASX200 by either measure correlation to index or std deviation etc\n",
    "# 2). the dividends issued over the last 12 months is consistent or better than history \n",
    "# 3). the dividends over the last 12 months divide by current share price is above the market median"
   ]
  },
  {
   "cell_type": "code",
   "execution_count": 2,
   "metadata": {},
   "outputs": [],
   "source": [
    "\n",
    "import numpy as np\n",
    "import matplotlib.pyplot as plt\n",
    "import seaborn as sns\n",
    "\n",
    "import yfinance as yf"
   ]
  },
  {
   "cell_type": "code",
   "execution_count": null,
   "metadata": {},
   "outputs": [],
   "source": [
    "#Top 80% of asx200\n",
    "# \"CSL.AX CBA.AX BHP.AX WBC.AX NAB.AX WOW.AX ANZ.AX WES.AX TCL.AX MQG.AX FMG.AX TLS.AX RIO.AX GMG.AX NCM.AX WPL.AX COL.AX BXB.AX ALL.AX FPH.AX\" "
   ]
  },
  {
   "cell_type": "code",
   "execution_count": 150,
   "metadata": {},
   "outputs": [
    {
     "name": "stdout",
     "output_type": "stream",
     "text": [
      "[*********************100%***********************]  13 of 13 completed\n"
     ]
    }
   ],
   "source": [
    "data = yf.download(  # or pdr.get_data_yahoo(...\n",
    "        # tickers list or string as well\n",
    "        tickers = \"^AXJO CSL.AX CBA.AX BHP.AX WBC.AX NAB.AX WOW.AX ANZ.AX WES.AX TCL.AX MQG.AX FMG.AX TLS.AX\" ,\n",
    "\n",
    "        # use \"period\" instead of start/end\n",
    "        # valid periods: 1d,5d,1mo,3mo,6mo,1y,2y,5y,10y,ytd,max\n",
    "        # (optional, default is '1mo')\n",
    "        period = \"1y\",\n",
    "\n",
    "        # fetch data by interval (including intraday if period < 60 days)\n",
    "        # valid intervals: 1m,2m,5m,15m,30m,60m,90m,1h,1d,5d,1wk,1mo,3mo\n",
    "        # (optional, default is '1d')\n",
    "        #interval = \"1d\",\n",
    "\n",
    "        # group by ticker (to access via data['SPY'])\n",
    "        # (optional, default is 'column') or ticker\n",
    "        group_by = 'column',\n",
    "\n",
    "        # adjust all OHLC automatically\n",
    "        # (optional, default is False)\n",
    "        #auto_adjust = True,\n",
    "\n",
    "        # download pre/post regular market hours data\n",
    "        # (optional, default is False)\n",
    "        #prepost = True,\n",
    "\n",
    "        # use threads for mass downloading? (True/False/Integer)\n",
    "        # (optional, default is True)\n",
    "        threads = True,\n",
    "\n",
    "        # proxy URL scheme use use when downloading?\n",
    "        # (optional, default is None)\n",
    "        proxy = None\n",
    "    )"
   ]
  },
  {
   "cell_type": "code",
   "execution_count": 151,
   "metadata": {},
   "outputs": [
    {
     "data": {
      "text/html": [
       "<div>\n",
       "<style scoped>\n",
       "    .dataframe tbody tr th:only-of-type {\n",
       "        vertical-align: middle;\n",
       "    }\n",
       "\n",
       "    .dataframe tbody tr th {\n",
       "        vertical-align: top;\n",
       "    }\n",
       "\n",
       "    .dataframe thead tr th {\n",
       "        text-align: left;\n",
       "    }\n",
       "\n",
       "    .dataframe thead tr:last-of-type th {\n",
       "        text-align: right;\n",
       "    }\n",
       "</style>\n",
       "<table border=\"1\" class=\"dataframe\">\n",
       "  <thead>\n",
       "    <tr>\n",
       "      <th></th>\n",
       "      <th colspan=\"10\" halign=\"left\">Adj Close</th>\n",
       "      <th>...</th>\n",
       "      <th colspan=\"10\" halign=\"left\">Volume</th>\n",
       "    </tr>\n",
       "    <tr>\n",
       "      <th></th>\n",
       "      <th>ANZ.AX</th>\n",
       "      <th>BHP.AX</th>\n",
       "      <th>CBA.AX</th>\n",
       "      <th>CSL.AX</th>\n",
       "      <th>FMG.AX</th>\n",
       "      <th>MQG.AX</th>\n",
       "      <th>NAB.AX</th>\n",
       "      <th>TCL.AX</th>\n",
       "      <th>TLS.AX</th>\n",
       "      <th>WBC.AX</th>\n",
       "      <th>...</th>\n",
       "      <th>CSL.AX</th>\n",
       "      <th>FMG.AX</th>\n",
       "      <th>MQG.AX</th>\n",
       "      <th>NAB.AX</th>\n",
       "      <th>TCL.AX</th>\n",
       "      <th>TLS.AX</th>\n",
       "      <th>WBC.AX</th>\n",
       "      <th>WES.AX</th>\n",
       "      <th>WOW.AX</th>\n",
       "      <th>^AXJO</th>\n",
       "    </tr>\n",
       "    <tr>\n",
       "      <th>Date</th>\n",
       "      <th></th>\n",
       "      <th></th>\n",
       "      <th></th>\n",
       "      <th></th>\n",
       "      <th></th>\n",
       "      <th></th>\n",
       "      <th></th>\n",
       "      <th></th>\n",
       "      <th></th>\n",
       "      <th></th>\n",
       "      <th></th>\n",
       "      <th></th>\n",
       "      <th></th>\n",
       "      <th></th>\n",
       "      <th></th>\n",
       "      <th></th>\n",
       "      <th></th>\n",
       "      <th></th>\n",
       "      <th></th>\n",
       "      <th></th>\n",
       "      <th></th>\n",
       "    </tr>\n",
       "  </thead>\n",
       "  <tbody>\n",
       "    <tr>\n",
       "      <td>2020-05-07</td>\n",
       "      <td>15.85</td>\n",
       "      <td>31.000000</td>\n",
       "      <td>59.259998</td>\n",
       "      <td>307.929993</td>\n",
       "      <td>11.45</td>\n",
       "      <td>99.550003</td>\n",
       "      <td>16.219999</td>\n",
       "      <td>13.42</td>\n",
       "      <td>3.06</td>\n",
       "      <td>15.60</td>\n",
       "      <td>...</td>\n",
       "      <td>1208546</td>\n",
       "      <td>9815779</td>\n",
       "      <td>934125</td>\n",
       "      <td>11916668</td>\n",
       "      <td>6767828</td>\n",
       "      <td>23516752</td>\n",
       "      <td>8369533</td>\n",
       "      <td>2418548</td>\n",
       "      <td>3188886</td>\n",
       "      <td>780000</td>\n",
       "    </tr>\n",
       "    <tr>\n",
       "      <td>2020-05-08</td>\n",
       "      <td>15.73</td>\n",
       "      <td>31.400000</td>\n",
       "      <td>59.599998</td>\n",
       "      <td>301.179993</td>\n",
       "      <td>12.04</td>\n",
       "      <td>105.190002</td>\n",
       "      <td>16.080000</td>\n",
       "      <td>13.60</td>\n",
       "      <td>3.03</td>\n",
       "      <td>15.51</td>\n",
       "      <td>...</td>\n",
       "      <td>1193753</td>\n",
       "      <td>11981676</td>\n",
       "      <td>2234281</td>\n",
       "      <td>12719481</td>\n",
       "      <td>5729473</td>\n",
       "      <td>22130682</td>\n",
       "      <td>10322277</td>\n",
       "      <td>2146783</td>\n",
       "      <td>2322743</td>\n",
       "      <td>851300</td>\n",
       "    </tr>\n",
       "    <tr>\n",
       "      <td>2020-05-11</td>\n",
       "      <td>15.81</td>\n",
       "      <td>31.549999</td>\n",
       "      <td>60.139999</td>\n",
       "      <td>302.140015</td>\n",
       "      <td>12.11</td>\n",
       "      <td>111.540001</td>\n",
       "      <td>15.980000</td>\n",
       "      <td>13.80</td>\n",
       "      <td>3.07</td>\n",
       "      <td>15.63</td>\n",
       "      <td>...</td>\n",
       "      <td>619258</td>\n",
       "      <td>9794646</td>\n",
       "      <td>2261961</td>\n",
       "      <td>11836955</td>\n",
       "      <td>7429677</td>\n",
       "      <td>22071226</td>\n",
       "      <td>8158612</td>\n",
       "      <td>1643955</td>\n",
       "      <td>3425641</td>\n",
       "      <td>795500</td>\n",
       "    </tr>\n",
       "    <tr>\n",
       "      <td>2020-05-12</td>\n",
       "      <td>15.50</td>\n",
       "      <td>30.719999</td>\n",
       "      <td>59.709999</td>\n",
       "      <td>307.609985</td>\n",
       "      <td>11.72</td>\n",
       "      <td>107.010002</td>\n",
       "      <td>15.520000</td>\n",
       "      <td>13.65</td>\n",
       "      <td>3.09</td>\n",
       "      <td>15.23</td>\n",
       "      <td>...</td>\n",
       "      <td>869289</td>\n",
       "      <td>9220721</td>\n",
       "      <td>1871019</td>\n",
       "      <td>14243074</td>\n",
       "      <td>5993226</td>\n",
       "      <td>23612862</td>\n",
       "      <td>10780859</td>\n",
       "      <td>1616964</td>\n",
       "      <td>3670175</td>\n",
       "      <td>866400</td>\n",
       "    </tr>\n",
       "    <tr>\n",
       "      <td>2020-05-13</td>\n",
       "      <td>15.56</td>\n",
       "      <td>31.010000</td>\n",
       "      <td>60.849998</td>\n",
       "      <td>310.000000</td>\n",
       "      <td>12.18</td>\n",
       "      <td>106.389999</td>\n",
       "      <td>15.640000</td>\n",
       "      <td>13.82</td>\n",
       "      <td>3.13</td>\n",
       "      <td>15.31</td>\n",
       "      <td>...</td>\n",
       "      <td>743390</td>\n",
       "      <td>13483548</td>\n",
       "      <td>1992208</td>\n",
       "      <td>10801864</td>\n",
       "      <td>4817392</td>\n",
       "      <td>28555834</td>\n",
       "      <td>8102927</td>\n",
       "      <td>2028045</td>\n",
       "      <td>2177940</td>\n",
       "      <td>0</td>\n",
       "    </tr>\n",
       "  </tbody>\n",
       "</table>\n",
       "<p>5 rows × 78 columns</p>\n",
       "</div>"
      ],
      "text/plain": [
       "           Adj Close                                                       \\\n",
       "              ANZ.AX     BHP.AX     CBA.AX      CSL.AX FMG.AX      MQG.AX   \n",
       "Date                                                                        \n",
       "2020-05-07     15.85  31.000000  59.259998  307.929993  11.45   99.550003   \n",
       "2020-05-08     15.73  31.400000  59.599998  301.179993  12.04  105.190002   \n",
       "2020-05-11     15.81  31.549999  60.139999  302.140015  12.11  111.540001   \n",
       "2020-05-12     15.50  30.719999  59.709999  307.609985  11.72  107.010002   \n",
       "2020-05-13     15.56  31.010000  60.849998  310.000000  12.18  106.389999   \n",
       "\n",
       "                                            ...   Volume                     \\\n",
       "               NAB.AX TCL.AX TLS.AX WBC.AX  ...   CSL.AX    FMG.AX   MQG.AX   \n",
       "Date                                        ...                               \n",
       "2020-05-07  16.219999  13.42   3.06  15.60  ...  1208546   9815779   934125   \n",
       "2020-05-08  16.080000  13.60   3.03  15.51  ...  1193753  11981676  2234281   \n",
       "2020-05-11  15.980000  13.80   3.07  15.63  ...   619258   9794646  2261961   \n",
       "2020-05-12  15.520000  13.65   3.09  15.23  ...   869289   9220721  1871019   \n",
       "2020-05-13  15.640000  13.82   3.13  15.31  ...   743390  13483548  1992208   \n",
       "\n",
       "                                                                             \n",
       "              NAB.AX   TCL.AX    TLS.AX    WBC.AX   WES.AX   WOW.AX   ^AXJO  \n",
       "Date                                                                         \n",
       "2020-05-07  11916668  6767828  23516752   8369533  2418548  3188886  780000  \n",
       "2020-05-08  12719481  5729473  22130682  10322277  2146783  2322743  851300  \n",
       "2020-05-11  11836955  7429677  22071226   8158612  1643955  3425641  795500  \n",
       "2020-05-12  14243074  5993226  23612862  10780859  1616964  3670175  866400  \n",
       "2020-05-13  10801864  4817392  28555834   8102927  2028045  2177940       0  \n",
       "\n",
       "[5 rows x 78 columns]"
      ]
     },
     "execution_count": 151,
     "metadata": {},
     "output_type": "execute_result"
    }
   ],
   "source": [
    "#data.tail()"
   ]
  },
  {
   "cell_type": "code",
   "execution_count": 152,
   "metadata": {},
   "outputs": [
    {
     "name": "stdout",
     "output_type": "stream",
     "text": [
      "^AXJO     1.000000\n",
      "TCL.AX    0.983412\n",
      "WOW.AX    0.968159\n",
      "CBA.AX    0.897706\n",
      "TLS.AX    0.874997\n",
      "CSL.AX    0.816445\n",
      "WES.AX    0.815243\n",
      "ANZ.AX    0.740234\n",
      "NAB.AX    0.737404\n",
      "MQG.AX    0.362169\n",
      "FMG.AX   -0.024809\n",
      "WBC.AX   -0.555362\n",
      "BHP.AX   -0.622755\n",
      "Name: ^AXJO, dtype: float64\n"
     ]
    }
   ],
   "source": [
    "#Correlate open prices with all ords\n",
    "import pandas as pd\n",
    "from sklearn import preprocessing\n",
    "\n",
    "data2 = data['Open']\n",
    "\n",
    "x = data2.values #returns a numpy array\n",
    "min_max_scaler = preprocessing.MinMaxScaler()\n",
    "x_scaled = min_max_scaler.fit_transform(x)\n",
    "df = pd.DataFrame(x_scaled, columns=df.columns)\n",
    "df.columns = [\"^AXJO\", \"CSL.AX\", \"CBA.AX\", \"BHP.AX\", \"WBC.AX\", \"NAB.AX\", \"WOW.AX\", \"ANZ.AX\", \"WES.AX\", \"TCL.AX\", \"MQG.AX\", \"FMG.AX\", \"TLS.AX\"]\n",
    "#df.set_index('Date')\n",
    "\n",
    "#Correlate with the normalised data\n",
    "correlation = df.corr(method='pearson').sort_values('^AXJO',ascending=False)\n",
    "#correlation = data2.corr(method='pearson').sort_values('^AORD',ascending=False)\n",
    "\n",
    "# order by highest correlation to aord\n",
    "df_corr = correlation['^AXJO']\n",
    "\n",
    "#data2.tail()\n",
    "\n",
    "#df.head()\n",
    "print(df_corr)\n"
   ]
  },
  {
   "cell_type": "code",
   "execution_count": 153,
   "metadata": {},
   "outputs": [
    {
     "data": {
      "text/plain": [
       "<matplotlib.axes._subplots.AxesSubplot at 0x1a1da057d0>"
      ]
     },
     "execution_count": 153,
     "metadata": {},
     "output_type": "execute_result"
    },
    {
     "data": {
      "image/png": "[encoded data removed]",
      "text/plain": [
       "<Figure size 432x288 with 1 Axes>"
      ]
     },
     "metadata": {
      "needs_background": "light"
     },
     "output_type": "display_data"
    }
   ],
   "source": [
    "#Draw a scatter plot of these variables\n",
    "df_corr.plot( kind=\"bar\")\n",
    "\n"
   ]
  },
  {
   "cell_type": "code",
   "execution_count": 154,
   "metadata": {},
   "outputs": [
    {
     "data": {
      "text/plain": [
       "<matplotlib.axes._subplots.AxesSubplot at 0x1a1d33d190>"
      ]
     },
     "execution_count": 154,
     "metadata": {},
     "output_type": "execute_result"
    },
    {
     "data": {
      "image/png": "[encoded data removed]",
      "text/plain": [
       "<Figure size 432x288 with 1 Axes>"
      ]
     },
     "metadata": {
      "needs_background": "light"
     },
     "output_type": "display_data"
    }
   ],
   "source": [
    "df.plot( y=[\"^AXJO\", \"WOW.AX\", \"TCL.AX\", \"CBA.AX\"]\n",
    "        , kind=\"line\"\n",
    "        , legend='out')\n"
   ]
  },
  {
   "cell_type": "code",
   "execution_count": 139,
   "metadata": {},
   "outputs": [],
   "source": []
  },
  {
   "cell_type": "code",
   "execution_count": 155,
   "metadata": {},
   "outputs": [
    {
     "name": "stdout",
     "output_type": "stream",
     "text": [
      "Date\n",
      "2020-05-13    0.065735\n",
      "Name: Close, dtype: float64 Date\n",
      "2020-05-13    0.025685\n",
      "Name: Close, dtype: float64 Date\n",
      "2020-05-13    0.040521\n",
      "Name: Close, dtype: float64\n"
     ]
    }
   ],
   "source": [
    "#Calculate dividend ratio\n",
    "\n",
    "def Div_return(Tik_Name):\n",
    "    Tik = yf.Ticker(Tik_Name)\n",
    "\n",
    "    # minimum of last 4 dividends\n",
    "    Div_Min_L4 = Tik.dividends.iloc[[-4,-3,-2,-1]].min()\n",
    "\n",
    "    # get yesterdays closing price\n",
    "    YTD_close = Tik.history(period=\"1d\")[\"Close\"]\n",
    "\n",
    "    Div_Rate_1Y = (Div_Min_L4*2) / YTD_close\n",
    "    return Div_Rate_1Y\n",
    "\n",
    "x = Div_return(\"CBA.AX\")\n",
    "y = Div_return(\"WOW.AX\")\n",
    "z = Div_return(\"TCL.AX\")\n",
    "\n",
    "print(x,y,z)"
   ]
  },
  {
   "cell_type": "code",
   "execution_count": null,
   "metadata": {},
   "outputs": [],
   "source": [
    "#Next phase\n",
    "# Download all tickets within 1 index\n",
    "# create automated threshold cutoff for stocks correlation with index\n",
    "# create a list of outputs used in calculating the dividend return\n",
    "# stress the stocks selected over various time periods"
   ]
  }
 ],
 "metadata": {
  "kernelspec": {
   "display_name": "Python 3",
   "language": "python",
   "name": "python3"
  },
  "language_info": {
   "codemirror_mode": {
    "name": "ipython",
    "version": 3
   },
   "file_extension": ".py",
   "mimetype": "text/x-python",
   "name": "python",
   "nbconvert_exporter": "python",
   "pygments_lexer": "ipython3",
   "version": "3.7.4"
  }
 },
 "nbformat": 4,
 "nbformat_minor": 2
}
