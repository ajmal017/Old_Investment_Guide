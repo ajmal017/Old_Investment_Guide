{
 "cells": [
  {
   "cell_type": "code",
   "execution_count": null,
   "metadata": {},
   "outputs": [],
   "source": [
    "# Link to resources\n",
    "#https://github.com/ranaroussi/yfinance/blob/master/README.rst"
   ]
  },
  {
   "cell_type": "code",
   "execution_count": null,
   "metadata": {},
   "outputs": [],
   "source": [
    "#Install yfinance and yaloofinancials via mac terminal\n",
    "#python3   -m pip install yfinance\n",
    "#python3   -m pip install yahoofinancials"
   ]
  },
  {
   "cell_type": "code",
   "execution_count": 32,
   "metadata": {},
   "outputs": [],
   "source": [
    "import pandas as pd\n",
    "import numpy as np\n",
    "import matplotlib.pyplot as plt\n",
    "import seaborn as sns\n",
    "\n",
    "import yfinance as yf\n",
    "#import yahoofinancials"
   ]
  },
  {
   "cell_type": "code",
   "execution_count": 48,
   "metadata": {},
   "outputs": [
    {
     "name": "stdout",
     "output_type": "stream",
     "text": [
      "[*********************100%***********************]  1 of 1 completed\n",
      "[*********************100%***********************]  1 of 1 completed\n",
      "[*********************100%***********************]  1 of 1 completed\n"
     ]
    }
   ],
   "source": [
    "#Import stock data\n",
    "df_tsla = yf.download('TSLA').dropna()\n",
    "df_wow = yf.download('WOW.AX').dropna()\n",
    "df_aord = yf.download('^AORD').dropna()"
   ]
  },
  {
   "cell_type": "code",
   "execution_count": 49,
   "metadata": {},
   "outputs": [
    {
     "data": {
      "text/html": [
       "<div>\n",
       "<style scoped>\n",
       "    .dataframe tbody tr th:only-of-type {\n",
       "        vertical-align: middle;\n",
       "    }\n",
       "\n",
       "    .dataframe tbody tr th {\n",
       "        vertical-align: top;\n",
       "    }\n",
       "\n",
       "    .dataframe thead th {\n",
       "        text-align: right;\n",
       "    }\n",
       "</style>\n",
       "<table border=\"1\" class=\"dataframe\">\n",
       "  <thead>\n",
       "    <tr style=\"text-align: right;\">\n",
       "      <th></th>\n",
       "      <th>Open</th>\n",
       "      <th>High</th>\n",
       "      <th>Low</th>\n",
       "      <th>Close</th>\n",
       "      <th>Adj Close</th>\n",
       "      <th>Volume</th>\n",
       "    </tr>\n",
       "    <tr>\n",
       "      <th>Date</th>\n",
       "      <th></th>\n",
       "      <th></th>\n",
       "      <th></th>\n",
       "      <th></th>\n",
       "      <th></th>\n",
       "      <th></th>\n",
       "    </tr>\n",
       "  </thead>\n",
       "  <tbody>\n",
       "    <tr>\n",
       "      <td>2020-05-05</td>\n",
       "      <td>35.349998</td>\n",
       "      <td>35.529999</td>\n",
       "      <td>34.980000</td>\n",
       "      <td>35.310001</td>\n",
       "      <td>35.310001</td>\n",
       "      <td>2466018.0</td>\n",
       "    </tr>\n",
       "    <tr>\n",
       "      <td>2020-05-06</td>\n",
       "      <td>35.020000</td>\n",
       "      <td>35.290001</td>\n",
       "      <td>34.740002</td>\n",
       "      <td>35.119999</td>\n",
       "      <td>35.119999</td>\n",
       "      <td>2062787.0</td>\n",
       "    </tr>\n",
       "    <tr>\n",
       "      <td>2020-05-07</td>\n",
       "      <td>35.189999</td>\n",
       "      <td>35.270000</td>\n",
       "      <td>34.700001</td>\n",
       "      <td>34.910000</td>\n",
       "      <td>34.910000</td>\n",
       "      <td>3188886.0</td>\n",
       "    </tr>\n",
       "    <tr>\n",
       "      <td>2020-05-08</td>\n",
       "      <td>34.990002</td>\n",
       "      <td>35.060001</td>\n",
       "      <td>34.480000</td>\n",
       "      <td>34.700001</td>\n",
       "      <td>34.700001</td>\n",
       "      <td>2322743.0</td>\n",
       "    </tr>\n",
       "    <tr>\n",
       "      <td>2020-05-11</td>\n",
       "      <td>34.500000</td>\n",
       "      <td>34.990002</td>\n",
       "      <td>34.310001</td>\n",
       "      <td>34.740002</td>\n",
       "      <td>34.740002</td>\n",
       "      <td>3422797.0</td>\n",
       "    </tr>\n",
       "  </tbody>\n",
       "</table>\n",
       "</div>"
      ],
      "text/plain": [
       "                 Open       High        Low      Close  Adj Close     Volume\n",
       "Date                                                                        \n",
       "2020-05-05  35.349998  35.529999  34.980000  35.310001  35.310001  2466018.0\n",
       "2020-05-06  35.020000  35.290001  34.740002  35.119999  35.119999  2062787.0\n",
       "2020-05-07  35.189999  35.270000  34.700001  34.910000  34.910000  3188886.0\n",
       "2020-05-08  34.990002  35.060001  34.480000  34.700001  34.700001  2322743.0\n",
       "2020-05-11  34.500000  34.990002  34.310001  34.740002  34.740002  3422797.0"
      ]
     },
     "execution_count": 49,
     "metadata": {},
     "output_type": "execute_result"
    }
   ],
   "source": [
    "df_wow.tail()"
   ]
  },
  {
   "cell_type": "code",
   "execution_count": 59,
   "metadata": {},
   "outputs": [],
   "source": [
    "#df_tsla.head()\n",
    "\n",
    "\n",
    "df_aord['D_chg_aord'] = (df_aord['Close']/df_aord['Open'])-1\n",
    "df_wow['D_chg_wowax'] = (df_wow['Close']/df_wow['Open'])-1\n",
    "\n",
    "# df_combine = pd.merge(left=df_aord, right=df_wow, left_on='Date', right_on='Date').set_index('Date').dropna()\n",
    "\n",
    "# df_combine.head()"
   ]
  },
  {
   "cell_type": "code",
   "execution_count": 72,
   "metadata": {},
   "outputs": [
    {
     "data": {
      "text/plain": [
       "<matplotlib.axes._subplots.AxesSubplot at 0x1a1d6ce990>"
      ]
     },
     "execution_count": 72,
     "metadata": {},
     "output_type": "execute_result"
    },
    {
     "data": {
      "image/png": "[encoded data removed]",
      "text/plain": [
       "<Figure size 432x288 with 1 Axes>"
      ]
     },
     "metadata": {
      "needs_background": "light"
     },
     "output_type": "display_data"
    }
   ],
   "source": [
    "ticker = yf.Ticker('^AORD')\n",
    "\n",
    "df_aord = ticker.history(period=\"max\")\n",
    "df_aord['D_chg_aord'] = (df_aord['Close']/df_aord['Open'])-1\n",
    "df_aord['D_chg_aord'].plot(title=\"AORD's stock price daily change\")\n"
   ]
  },
  {
   "cell_type": "code",
   "execution_count": 115,
   "metadata": {},
   "outputs": [
    {
     "data": {
      "text/plain": [
       "<matplotlib.axes._subplots.AxesSubplot at 0x1a1f201990>"
      ]
     },
     "execution_count": 115,
     "metadata": {},
     "output_type": "execute_result"
    },
    {
     "data": {
      "image/png": "[encoded data removed]",
      "text/plain": [
       "<Figure size 432x288 with 1 Axes>"
      ]
     },
     "metadata": {
      "needs_background": "light"
     },
     "output_type": "display_data"
    }
   ],
   "source": [
    "ticker = yf.Ticker('^AORD')\n",
    "\n",
    "#df_aord = ticker.history(period=\"5y\")\n",
    "#only looking at last 60 days\n",
    "df_aord = ticker.history(interval=\"1d\")\n",
    "\n",
    "df_aord['D_chg_aord'] = (df_aord['Close']/df_aord['Open'])-1\n",
    "df_aord['D_chg_aord'].plot(title=\"AORD's stock price daily change\")\n",
    "#df_aord['Open'].plot(title=\"AORD's stock price daily change\")\n",
    "#df_aord['Close'].plot(title=\"AORD's stock price daily change\")\n",
    "\n",
    "ticker = yf.Ticker('WOW.AX')\n",
    "df_wow = ticker.history(interval=\"1d\")\n",
    "df_aord['D_chg_aord'] = (df_wow['Close']/df_wow['Open'])-1\n",
    "df_aord['D_chg_aord'].plot(title=\"WOW's stock price daily change\")"
   ]
  },
  {
   "cell_type": "code",
   "execution_count": 110,
   "metadata": {},
   "outputs": [
    {
     "data": {
      "text/html": [
       "<div>\n",
       "<style scoped>\n",
       "    .dataframe tbody tr th:only-of-type {\n",
       "        vertical-align: middle;\n",
       "    }\n",
       "\n",
       "    .dataframe tbody tr th {\n",
       "        vertical-align: top;\n",
       "    }\n",
       "\n",
       "    .dataframe thead th {\n",
       "        text-align: right;\n",
       "    }\n",
       "</style>\n",
       "<table border=\"1\" class=\"dataframe\">\n",
       "  <thead>\n",
       "    <tr style=\"text-align: right;\">\n",
       "      <th></th>\n",
       "      <th>Open</th>\n",
       "      <th>High</th>\n",
       "      <th>Low</th>\n",
       "      <th>Close</th>\n",
       "      <th>Volume</th>\n",
       "      <th>Dividends</th>\n",
       "      <th>Stock Splits</th>\n",
       "      <th>D_chg_aord</th>\n",
       "    </tr>\n",
       "    <tr>\n",
       "      <th>Date</th>\n",
       "      <th></th>\n",
       "      <th></th>\n",
       "      <th></th>\n",
       "      <th></th>\n",
       "      <th></th>\n",
       "      <th></th>\n",
       "      <th></th>\n",
       "      <th></th>\n",
       "    </tr>\n",
       "  </thead>\n",
       "  <tbody>\n",
       "    <tr>\n",
       "      <td>2020-05-11</td>\n",
       "      <td>5540.9</td>\n",
       "      <td>5557.0</td>\n",
       "      <td>5534.2</td>\n",
       "      <td>5552.5</td>\n",
       "      <td>0</td>\n",
       "      <td>0</td>\n",
       "      <td>0</td>\n",
       "      <td>0.002094</td>\n",
       "    </tr>\n",
       "    <tr>\n",
       "      <td>2020-05-11</td>\n",
       "      <td>5552.6</td>\n",
       "      <td>5560.2</td>\n",
       "      <td>5548.8</td>\n",
       "      <td>5558.0</td>\n",
       "      <td>0</td>\n",
       "      <td>0</td>\n",
       "      <td>0</td>\n",
       "      <td>0.000973</td>\n",
       "    </tr>\n",
       "    <tr>\n",
       "      <td>2020-05-11</td>\n",
       "      <td>5556.1</td>\n",
       "      <td>5574.1</td>\n",
       "      <td>5549.1</td>\n",
       "      <td>5574.1</td>\n",
       "      <td>0</td>\n",
       "      <td>0</td>\n",
       "      <td>0</td>\n",
       "      <td>0.003240</td>\n",
       "    </tr>\n",
       "    <tr>\n",
       "      <td>2020-05-11</td>\n",
       "      <td>5576.4</td>\n",
       "      <td>5587.4</td>\n",
       "      <td>5571.6</td>\n",
       "      <td>5580.6</td>\n",
       "      <td>0</td>\n",
       "      <td>0</td>\n",
       "      <td>0</td>\n",
       "      <td>0.000753</td>\n",
       "    </tr>\n",
       "    <tr>\n",
       "      <td>2020-05-11</td>\n",
       "      <td>5580.7</td>\n",
       "      <td>5580.7</td>\n",
       "      <td>5562.6</td>\n",
       "      <td>5565.7</td>\n",
       "      <td>0</td>\n",
       "      <td>0</td>\n",
       "      <td>0</td>\n",
       "      <td>-0.002688</td>\n",
       "    </tr>\n",
       "  </tbody>\n",
       "</table>\n",
       "</div>"
      ],
      "text/plain": [
       "              Open    High     Low   Close  Volume  Dividends  Stock Splits  \\\n",
       "Date                                                                          \n",
       "2020-05-11  5540.9  5557.0  5534.2  5552.5       0          0             0   \n",
       "2020-05-11  5552.6  5560.2  5548.8  5558.0       0          0             0   \n",
       "2020-05-11  5556.1  5574.1  5549.1  5574.1       0          0             0   \n",
       "2020-05-11  5576.4  5587.4  5571.6  5580.6       0          0             0   \n",
       "2020-05-11  5580.7  5580.7  5562.6  5565.7       0          0             0   \n",
       "\n",
       "            D_chg_aord  \n",
       "Date                    \n",
       "2020-05-11    0.002094  \n",
       "2020-05-11    0.000973  \n",
       "2020-05-11    0.003240  \n",
       "2020-05-11    0.000753  \n",
       "2020-05-11   -0.002688  "
      ]
     },
     "execution_count": 110,
     "metadata": {},
     "output_type": "execute_result"
    }
   ],
   "source": [
    "df_aord.tail()"
   ]
  },
  {
   "cell_type": "code",
   "execution_count": 95,
   "metadata": {},
   "outputs": [
    {
     "name": "stdout",
     "output_type": "stream",
     "text": [
      "                                              Holder    Shares Date Reported  \\\n",
      "0  Vanguard International Stock Index-Total Intl ...  20213184    2019-10-31   \n",
      "1  Vanguard Tax Managed Fund-Vanguard Developed M...   7950210    2019-12-31   \n",
      "2                         iShares Core MSCI EAFE ETF   5680975    2020-01-31   \n",
      "3                              iShares MSCI Eafe ETF   5434468    2020-01-31   \n",
      "4           iShares MSCI EAFE Minimum Volatility ETF   4426094    2020-01-31   \n",
      "5                  Fidelity International Index Fund   2559695    2020-01-31   \n",
      "6  Vanguard Intl Equity Index Fds-FTSE All World ...   2252926    2019-10-31   \n",
      "7                         iShares MSCI Australia ETF   1908227    2020-01-31   \n",
      "8                  iShares MSCI Pacific Ex-Japan ETF   1594000    2020-01-31   \n",
      "9     College Retirement Equities Fund-Stock Account   1484032    2019-12-31   \n",
      "\n",
      "    % Out      Value  \n",
      "0  0.0160  754356026  \n",
      "1  0.0063  287479593  \n",
      "2  0.0045  237691994  \n",
      "3  0.0043  227378141  \n",
      "4  0.0035  185187772  \n",
      "5  0.0020  107097638  \n",
      "6  0.0018   84079198  \n",
      "7  0.0015   79840217  \n",
      "8  0.0013   66692960  \n",
      "9  0.0012   53662597  \n"
     ]
    }
   ],
   "source": [
    "#exploring the ticker details\n",
    "ticker = yf.Ticker('WOW.AX')\n",
    "# df_wowt = ticker.info\n",
    "#df_wowt = ticker.recommendations\n",
    "# df_wowt = ticker.actions\n",
    "# df_wowt = ticker.major_holders\n",
    "#upcoming events\n",
    "# df_wowt = ticker.calendar \n",
    "\n",
    "df_wowt = ticker.institutional_holders\n",
    "\n",
    "print(df_wowt)"
   ]
  },
  {
   "cell_type": "code",
   "execution_count": 99,
   "metadata": {},
   "outputs": [],
   "source": [
    "import yahoofinancials"
   ]
  },
  {
   "cell_type": "code",
   "execution_count": 102,
   "metadata": {},
   "outputs": [
    {
     "ename": "TypeError",
     "evalue": "'module' object is not callable",
     "output_type": "error",
     "traceback": [
      "\u001b[0;31m---------------------------------------------------------------------------\u001b[0m",
      "\u001b[0;31mTypeError\u001b[0m                                 Traceback (most recent call last)",
      "\u001b[0;32m<ipython-input-102-721892989531>\u001b[0m in \u001b[0;36m<module>\u001b[0;34m\u001b[0m\n\u001b[0;32m----> 1\u001b[0;31m \u001b[0my_fin\u001b[0m \u001b[0;34m=\u001b[0m \u001b[0myahoofinancials\u001b[0m\u001b[0;34m(\u001b[0m\u001b[0;34m'^AORD'\u001b[0m\u001b[0;34m)\u001b[0m\u001b[0;34m\u001b[0m\u001b[0;34m\u001b[0m\u001b[0m\n\u001b[0m\u001b[1;32m      2\u001b[0m \u001b[0;34m\u001b[0m\u001b[0m\n\u001b[1;32m      3\u001b[0m data = y_fin.get_historical_price_data(start_date='2000-01-01', \n\u001b[1;32m      4\u001b[0m \u001b[0;34m\u001b[0m\u001b[0m\n\u001b[1;32m      5\u001b[0m                                                   time_interval='weekly')\n",
      "\u001b[0;31mTypeError\u001b[0m: 'module' object is not callable"
     ]
    }
   ],
   "source": [
    "y_fin = yahoofinancials('^AORD')\n",
    "\n",
    "data = y_fin.get_historical_price_data(start_date='2000-01-01', \n",
    "                                                  \n",
    "                                                  time_interval='weekly')\n",
    "\n",
    "tsla_df = pd.DataFrame(data['TSLA']['prices'])\n",
    "tsla_df = tsla_df.drop('date', axis=1).set_index('formatted_date')\n",
    "tsla_df.head()"
   ]
  },
  {
   "cell_type": "code",
   "execution_count": 130,
   "metadata": {},
   "outputs": [
    {
     "name": "stdout",
     "output_type": "stream",
     "text": [
      "[*********************100%***********************]  3 of 3 completed\n"
     ]
    }
   ],
   "source": [
    "import yfinance as yf\n",
    "data = yf.download(\"^AORD WOW.AX QAN.AX\", columns=['Open','Close'], start=\"2017-01-01\",\n",
    "                   group_by=\"ticker\")"
   ]
  },
  {
   "cell_type": "code",
   "execution_count": 131,
   "metadata": {},
   "outputs": [
    {
     "data": {
      "text/html": [
       "<div>\n",
       "<style scoped>\n",
       "    .dataframe tbody tr th:only-of-type {\n",
       "        vertical-align: middle;\n",
       "    }\n",
       "\n",
       "    .dataframe tbody tr th {\n",
       "        vertical-align: top;\n",
       "    }\n",
       "\n",
       "    .dataframe thead tr th {\n",
       "        text-align: left;\n",
       "    }\n",
       "\n",
       "    .dataframe thead tr:last-of-type th {\n",
       "        text-align: right;\n",
       "    }\n",
       "</style>\n",
       "<table border=\"1\" class=\"dataframe\">\n",
       "  <thead>\n",
       "    <tr>\n",
       "      <th></th>\n",
       "      <th colspan=\"6\" halign=\"left\">^AORD</th>\n",
       "      <th colspan=\"6\" halign=\"left\">WOW.AX</th>\n",
       "      <th colspan=\"6\" halign=\"left\">QAN.AX</th>\n",
       "    </tr>\n",
       "    <tr>\n",
       "      <th></th>\n",
       "      <th>Open</th>\n",
       "      <th>High</th>\n",
       "      <th>Low</th>\n",
       "      <th>Close</th>\n",
       "      <th>Adj Close</th>\n",
       "      <th>Volume</th>\n",
       "      <th>Open</th>\n",
       "      <th>High</th>\n",
       "      <th>Low</th>\n",
       "      <th>Close</th>\n",
       "      <th>Adj Close</th>\n",
       "      <th>Volume</th>\n",
       "      <th>Open</th>\n",
       "      <th>High</th>\n",
       "      <th>Low</th>\n",
       "      <th>Close</th>\n",
       "      <th>Adj Close</th>\n",
       "      <th>Volume</th>\n",
       "    </tr>\n",
       "    <tr>\n",
       "      <th>Date</th>\n",
       "      <th></th>\n",
       "      <th></th>\n",
       "      <th></th>\n",
       "      <th></th>\n",
       "      <th></th>\n",
       "      <th></th>\n",
       "      <th></th>\n",
       "      <th></th>\n",
       "      <th></th>\n",
       "      <th></th>\n",
       "      <th></th>\n",
       "      <th></th>\n",
       "      <th></th>\n",
       "      <th></th>\n",
       "      <th></th>\n",
       "      <th></th>\n",
       "      <th></th>\n",
       "      <th></th>\n",
       "    </tr>\n",
       "  </thead>\n",
       "  <tbody>\n",
       "    <tr>\n",
       "      <td>2017-01-03</td>\n",
       "      <td>5720.700195</td>\n",
       "      <td>5788.100098</td>\n",
       "      <td>5720.700195</td>\n",
       "      <td>5784.600098</td>\n",
       "      <td>5784.600098</td>\n",
       "      <td>498198500.0</td>\n",
       "      <td>24.400000</td>\n",
       "      <td>24.450001</td>\n",
       "      <td>24.290001</td>\n",
       "      <td>24.370001</td>\n",
       "      <td>21.837626</td>\n",
       "      <td>1862651</td>\n",
       "      <td>3.37</td>\n",
       "      <td>3.380</td>\n",
       "      <td>3.35</td>\n",
       "      <td>3.38</td>\n",
       "      <td>2.977655</td>\n",
       "      <td>3173997</td>\n",
       "    </tr>\n",
       "    <tr>\n",
       "      <td>2017-01-04</td>\n",
       "      <td>5784.600098</td>\n",
       "      <td>5792.899902</td>\n",
       "      <td>5781.200195</td>\n",
       "      <td>5788.200195</td>\n",
       "      <td>5788.200195</td>\n",
       "      <td>615850600.0</td>\n",
       "      <td>24.389999</td>\n",
       "      <td>24.389999</td>\n",
       "      <td>24.209999</td>\n",
       "      <td>24.350000</td>\n",
       "      <td>21.819706</td>\n",
       "      <td>1990360</td>\n",
       "      <td>3.37</td>\n",
       "      <td>3.375</td>\n",
       "      <td>3.33</td>\n",
       "      <td>3.34</td>\n",
       "      <td>2.942416</td>\n",
       "      <td>3037241</td>\n",
       "    </tr>\n",
       "    <tr>\n",
       "      <td>2017-01-05</td>\n",
       "      <td>5788.200195</td>\n",
       "      <td>5811.700195</td>\n",
       "      <td>5788.200195</td>\n",
       "      <td>5805.100098</td>\n",
       "      <td>5805.100098</td>\n",
       "      <td>573008400.0</td>\n",
       "      <td>24.400000</td>\n",
       "      <td>24.420000</td>\n",
       "      <td>24.260000</td>\n",
       "      <td>24.280001</td>\n",
       "      <td>21.756981</td>\n",
       "      <td>1633514</td>\n",
       "      <td>3.35</td>\n",
       "      <td>3.365</td>\n",
       "      <td>3.32</td>\n",
       "      <td>3.34</td>\n",
       "      <td>2.942416</td>\n",
       "      <td>3377598</td>\n",
       "    </tr>\n",
       "    <tr>\n",
       "      <td>2017-01-06</td>\n",
       "      <td>5805.100098</td>\n",
       "      <td>5818.399902</td>\n",
       "      <td>5801.399902</td>\n",
       "      <td>5809.000000</td>\n",
       "      <td>5809.000000</td>\n",
       "      <td>602420000.0</td>\n",
       "      <td>24.209999</td>\n",
       "      <td>24.389999</td>\n",
       "      <td>24.100000</td>\n",
       "      <td>24.190001</td>\n",
       "      <td>21.676332</td>\n",
       "      <td>1616859</td>\n",
       "      <td>3.36</td>\n",
       "      <td>3.370</td>\n",
       "      <td>3.33</td>\n",
       "      <td>3.33</td>\n",
       "      <td>2.933607</td>\n",
       "      <td>2584745</td>\n",
       "    </tr>\n",
       "    <tr>\n",
       "      <td>2017-01-09</td>\n",
       "      <td>5809.000000</td>\n",
       "      <td>5876.799805</td>\n",
       "      <td>5808.200195</td>\n",
       "      <td>5857.700195</td>\n",
       "      <td>5857.700195</td>\n",
       "      <td>651872400.0</td>\n",
       "      <td>24.299999</td>\n",
       "      <td>24.650000</td>\n",
       "      <td>24.280001</td>\n",
       "      <td>24.389999</td>\n",
       "      <td>21.855545</td>\n",
       "      <td>3429436</td>\n",
       "      <td>3.35</td>\n",
       "      <td>3.360</td>\n",
       "      <td>3.33</td>\n",
       "      <td>3.35</td>\n",
       "      <td>2.951226</td>\n",
       "      <td>2073992</td>\n",
       "    </tr>\n",
       "  </tbody>\n",
       "</table>\n",
       "</div>"
      ],
      "text/plain": [
       "                  ^AORD                                                      \\\n",
       "                   Open         High          Low        Close    Adj Close   \n",
       "Date                                                                          \n",
       "2017-01-03  5720.700195  5788.100098  5720.700195  5784.600098  5784.600098   \n",
       "2017-01-04  5784.600098  5792.899902  5781.200195  5788.200195  5788.200195   \n",
       "2017-01-05  5788.200195  5811.700195  5788.200195  5805.100098  5805.100098   \n",
       "2017-01-06  5805.100098  5818.399902  5801.399902  5809.000000  5809.000000   \n",
       "2017-01-09  5809.000000  5876.799805  5808.200195  5857.700195  5857.700195   \n",
       "\n",
       "                            WOW.AX                                   \\\n",
       "                 Volume       Open       High        Low      Close   \n",
       "Date                                                                  \n",
       "2017-01-03  498198500.0  24.400000  24.450001  24.290001  24.370001   \n",
       "2017-01-04  615850600.0  24.389999  24.389999  24.209999  24.350000   \n",
       "2017-01-05  573008400.0  24.400000  24.420000  24.260000  24.280001   \n",
       "2017-01-06  602420000.0  24.209999  24.389999  24.100000  24.190001   \n",
       "2017-01-09  651872400.0  24.299999  24.650000  24.280001  24.389999   \n",
       "\n",
       "                               QAN.AX                                        \n",
       "            Adj Close   Volume   Open   High   Low Close Adj Close   Volume  \n",
       "Date                                                                         \n",
       "2017-01-03  21.837626  1862651   3.37  3.380  3.35  3.38  2.977655  3173997  \n",
       "2017-01-04  21.819706  1990360   3.37  3.375  3.33  3.34  2.942416  3037241  \n",
       "2017-01-05  21.756981  1633514   3.35  3.365  3.32  3.34  2.942416  3377598  \n",
       "2017-01-06  21.676332  1616859   3.36  3.370  3.33  3.33  2.933607  2584745  \n",
       "2017-01-09  21.855545  3429436   3.35  3.360  3.33  3.35  2.951226  2073992  "
      ]
     },
     "execution_count": 131,
     "metadata": {},
     "output_type": "execute_result"
    }
   ],
   "source": [
    "data.head()"
   ]
  },
  {
   "cell_type": "code",
   "execution_count": null,
   "metadata": {},
   "outputs": [],
   "source": []
  },
  {
   "cell_type": "code",
   "execution_count": null,
   "metadata": {},
   "outputs": [],
   "source": []
  }
 ],
 "metadata": {
  "kernelspec": {
   "display_name": "Python 3",
   "language": "python",
   "name": "python3"
  },
  "language_info": {
   "codemirror_mode": {
    "name": "ipython",
    "version": 3
   },
   "file_extension": ".py",
   "mimetype": "text/x-python",
   "name": "python",
   "nbconvert_exporter": "python",
   "pygments_lexer": "ipython3",
   "version": "3.7.4"
  }
 },
 "nbformat": 4,
 "nbformat_minor": 2
}
